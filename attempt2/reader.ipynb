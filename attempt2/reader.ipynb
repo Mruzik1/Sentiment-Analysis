{
 "cells": [
  {
   "cell_type": "code",
   "execution_count": 1,
   "metadata": {},
   "outputs": [],
   "source": [
    "from PyPDF2 import PdfReader\n",
    "from src import Tokenizer"
   ]
  },
  {
   "cell_type": "code",
   "execution_count": 2,
   "metadata": {},
   "outputs": [],
   "source": [
    "# text = ''\n",
    "# with open('data/book4.pdf', 'rb') as fp:\n",
    "#     pdf_reader = PdfReader(fp)\n",
    "#     for i, page in enumerate(pdf_reader.pages):\n",
    "#         print(f'Page: {i}/{len(pdf_reader.pages)}{\" \"*20}', end='\\r')\n",
    "#         text += f'{page.extract_text()}\\n'"
   ]
  },
  {
   "cell_type": "code",
   "execution_count": 3,
   "metadata": {},
   "outputs": [],
   "source": [
    "with open('data/raw_book.txt', 'r', encoding='utf-8') as fp:\n",
    "    # fp.write(text)\n",
    "    with open('data/book.txt', 'a') as fp2:\n",
    "        tok = Tokenizer(fp)\n",
    "        fp2.write(tok.clean_text())"
   ]
  }
 ],
 "metadata": {
  "kernelspec": {
   "display_name": "Python 3.10.4 64-bit",
   "language": "python",
   "name": "python3"
  },
  "language_info": {
   "codemirror_mode": {
    "name": "ipython",
    "version": 3
   },
   "file_extension": ".py",
   "mimetype": "text/x-python",
   "name": "python",
   "nbconvert_exporter": "python",
   "pygments_lexer": "ipython3",
   "version": "3.10.4"
  },
  "orig_nbformat": 4,
  "vscode": {
   "interpreter": {
    "hash": "e96b7987e83db2bb51693718935e9a4c90615288c60e4ac5255cd193dc13706d"
   }
  }
 },
 "nbformat": 4,
 "nbformat_minor": 2
}
