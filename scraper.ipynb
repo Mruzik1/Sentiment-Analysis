{
 "cells": [
  {
   "cell_type": "code",
   "execution_count": 1,
   "metadata": {},
   "outputs": [],
   "source": [
    "from bs4 import BeautifulSoup\n",
    "from src import Tokenizer\n",
    "from time import sleep\n",
    "\n",
    "import re\n",
    "import requests"
   ]
  },
  {
   "cell_type": "code",
   "execution_count": 2,
   "metadata": {},
   "outputs": [],
   "source": [
    "BASE = 'https://stackoverflow.com'\n",
    "TAG = 'machine-learning'\n",
    "PAGES = 0"
   ]
  },
  {
   "cell_type": "code",
   "execution_count": 3,
   "metadata": {},
   "outputs": [],
   "source": [
    "def get_hrefs(page: int) -> list[str]:\n",
    "    sleep(3)\n",
    "\n",
    "    res = requests.get(f'{BASE}/questions/tagged/{TAG}?pagesize=50&page={page}&tab=Frequent')\n",
    "    soup = BeautifulSoup(res.content, 'lxml')\n",
    "    \n",
    "    return [i.get('href') for i in soup.select('a[class=s-link]')]"
   ]
  },
  {
   "cell_type": "code",
   "execution_count": 4,
   "metadata": {},
   "outputs": [],
   "source": [
    "def get_content(href: str) -> str:\n",
    "    sleep(3)\n",
    "\n",
    "    res = requests.get(f'{BASE}{href}')\n",
    "    soup = BeautifulSoup(res.content, 'lxml')\n",
    "    posts = soup.select('div.s-prose.js-post-body')\n",
    "\n",
    "    content = []\n",
    "    for post in posts:\n",
    "        content += post.find_all('p')\n",
    "    \n",
    "    return ''.join(f'{i.text} ' for i in content).strip()"
   ]
  },
  {
   "cell_type": "code",
   "execution_count": 5,
   "metadata": {},
   "outputs": [],
   "source": [
    "\n",
    "for p in range(1, PAGES+1):\n",
    "    hrefs = get_hrefs(p)\n",
    "    for i, h in enumerate(hrefs):\n",
    "        with open(f'data/{TAG}-raw.txt', 'w', encoding='utf-8') as fp:\n",
    "            print(f'Page #{p}, Post #{i} ', end='\\r')\n",
    "            fp.write(get_content(h))"
   ]
  },
  {
   "cell_type": "code",
   "execution_count": 6,
   "metadata": {},
   "outputs": [],
   "source": [
    "with open(f'data/{TAG}-raw.txt', 'r', encoding='utf-8') as fp1:\n",
    "    tokenizer = Tokenizer(fp1)\n",
    "    text = tokenizer.clean_text()\n",
    "    with open(f'data/{TAG}.txt', 'w', encoding='utf-8') as fp2:\n",
    "        fp2.write(text)"
   ]
  }
 ],
 "metadata": {
  "kernelspec": {
   "display_name": "Python 3.10.4 64-bit",
   "language": "python",
   "name": "python3"
  },
  "language_info": {
   "codemirror_mode": {
    "name": "ipython",
    "version": 3
   },
   "file_extension": ".py",
   "mimetype": "text/x-python",
   "name": "python",
   "nbconvert_exporter": "python",
   "pygments_lexer": "ipython3",
   "version": "3.10.4"
  },
  "orig_nbformat": 4,
  "vscode": {
   "interpreter": {
    "hash": "e96b7987e83db2bb51693718935e9a4c90615288c60e4ac5255cd193dc13706d"
   }
  }
 },
 "nbformat": 4,
 "nbformat_minor": 2
}
