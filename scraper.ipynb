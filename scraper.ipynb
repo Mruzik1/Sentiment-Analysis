{
 "cells": [
  {
   "cell_type": "code",
   "execution_count": 10,
   "metadata": {},
   "outputs": [],
   "source": [
    "from bs4 import BeautifulSoup\n",
    "\n",
    "import re\n",
    "import requests"
   ]
  },
  {
   "cell_type": "code",
   "execution_count": 11,
   "metadata": {},
   "outputs": [],
   "source": [
    "BASE = 'https://stackoverflow.com'\n",
    "TAG = 'machine-learning'\n",
    "PAGES = 5"
   ]
  },
  {
   "cell_type": "code",
   "execution_count": 12,
   "metadata": {},
   "outputs": [],
   "source": [
    "def get_hrefs(page: int) -> list[str]:\n",
    "    res = requests.get(f'{BASE}/questions/tagged/{TAG}?pagesize=50&page={page}&tab=Frequent')\n",
    "    soup = BeautifulSoup(res.content, 'lxml')\n",
    "    return [i.get('href') for i in soup.select('a[class=s-link]')]"
   ]
  },
  {
   "cell_type": "code",
   "execution_count": 13,
   "metadata": {},
   "outputs": [],
   "source": [
    "def get_content(href: str) -> str:\n",
    "    res = requests.get(f'{BASE}{href}')\n",
    "    soup = BeautifulSoup(res.content, 'lxml')\n",
    "    posts = soup.select('div.s-prose.js-post-body')\n",
    "\n",
    "    content = []\n",
    "    for post in posts:\n",
    "        content += post.find_all('p')\n",
    "    \n",
    "    return ''.join(f'{i.text} ' for i in content).strip()"
   ]
  },
  {
   "cell_type": "code",
   "execution_count": 14,
   "metadata": {},
   "outputs": [
    {
     "name": "stdout",
     "output_type": "stream",
     "text": [
      "Page #2, Post #24\r"
     ]
    }
   ],
   "source": [
    "with open(f'data/{TAG}.txt', 'w', encoding='utf-8') as fp:\n",
    "    for p in range(1, PAGES+1):\n",
    "        hrefs = get_hrefs(p)\n",
    "        for i, h in enumerate(hrefs):\n",
    "            print(f'Page #{p}, Post #{i} ', end='\\r')\n",
    "            fp.write(get_content(h))"
   ]
  },
  {
   "cell_type": "code",
   "execution_count": null,
   "metadata": {},
   "outputs": [],
   "source": [
    "with open(f'data/{TAG}.txt', 'r', encoding='utf-8') as fp:\n",
    "    text = fp.read()\n",
    "\n",
    "site_pattern = r'(https?:\\/\\/)?([\\da-z\\.-]+)\\.([a-z\\.]{2,6})([\\/\\w \\.-]*)'\n",
    "re.sub(site_pattern, ' ', text[:1500])"
   ]
  }
 ],
 "metadata": {
  "kernelspec": {
   "display_name": "Python 3.10.4 64-bit",
   "language": "python",
   "name": "python3"
  },
  "language_info": {
   "codemirror_mode": {
    "name": "ipython",
    "version": 3
   },
   "file_extension": ".py",
   "mimetype": "text/x-python",
   "name": "python",
   "nbconvert_exporter": "python",
   "pygments_lexer": "ipython3",
   "version": "3.10.4"
  },
  "orig_nbformat": 4,
  "vscode": {
   "interpreter": {
    "hash": "e96b7987e83db2bb51693718935e9a4c90615288c60e4ac5255cd193dc13706d"
   }
  }
 },
 "nbformat": 4,
 "nbformat_minor": 2
}
